{
  "nbformat": 4,
  "nbformat_minor": 0,
  "metadata": {
    "colab": {
      "name": "Perceptron.ipynb",
      "provenance": []
    },
    "kernelspec": {
      "name": "python3",
      "display_name": "Python 3"
    }
  },
  "cells": [
    {
      "cell_type": "markdown",
      "metadata": {
        "id": "HfOauDHzliFk"
      },
      "source": [
        "# Perceptron \r\n",
        "\r\n",
        "Treinamento de um perceptron para classificação de imagens preto e branco, representadas por uma matriz de pixels 3x3, em \"clara\" ou \"escura\".\r\n",
        " - Pixels brancos = 1 e pixels pretos = -1\r\n",
        "\r\n",
        "Fonte: [Link](https://edisciplinas.usp.br/pluginfile.php/4457290/mod_resource/content/2/SIN5007-Tema08-RedesNeurais.pdf)"
      ]
    },
    {
      "cell_type": "code",
      "metadata": {
        "id": "9sfRNFKpj8z9"
      },
      "source": [
        "# Dados iniciais\r\n",
        "import numpy as np\r\n",
        "\r\n",
        "# Base de dados\r\n",
        "# Classe 1 (predominantemente branca)\r\n",
        "A = np.array( [1, -1, 1, -1, 1, 1, -1, -1, 1] )\r\n",
        "\r\n",
        "# Classe -1 (predominantemente preta)\r\n",
        "B = np.array( [-1, -1, -1, 1, -1, 1, 1, 1, -1] )\r\n",
        "\r\n",
        "# Classe 1 (predominantemente branca)\r\n",
        "C = np.array( [1, -1, 1, 1, -1, 1, -1, 1, 1] )\r\n",
        "\r\n",
        "# Pesos iniciais (pesos igual para que as entradas tenha mesma relevância)\r\n",
        "Pesos = np.array( [0.11, 0.11, 0.11, 0.11, 0.11, 0.11, 0.11, 0.11, 0.11] )\r\n",
        "\r\n",
        "# Taxa de aprendizagem\r\n",
        "eta = 0.1\r\n",
        "\r\n",
        "# Viés\r\n",
        "bias = -0.5"
      ],
      "execution_count": 1,
      "outputs": []
    },
    {
      "cell_type": "code",
      "metadata": {
        "id": "EGt2Vj2FY6-e"
      },
      "source": [
        "# Função para a soma ponderada\r\n",
        "# u = x0*w0 + x1*w1 + x2*w2 + 1*θ\r\n",
        "# m = x0*w0 + x1*w1 + x2*w2\r\n",
        "# u = m + 1*θ\r\n",
        "\r\n",
        "def somaPonderada(X, W):\r\n",
        "  bias = -0.5\r\n",
        "  m = np.multiply(X, W)\r\n",
        "  u = np.sum(m) + 1*bias\r\n",
        "  return u"
      ],
      "execution_count": 2,
      "outputs": []
    },
    {
      "cell_type": "code",
      "metadata": {
        "id": "wNPijBOLbIEW"
      },
      "source": [
        "# Função de ativação\r\n",
        "# Função Degrau\r\n",
        "\r\n",
        "def funcaoAtivacao(u):\r\n",
        "  if u >= 0:\r\n",
        "    return 1\r\n",
        "  else:\r\n",
        "    return -1"
      ],
      "execution_count": 3,
      "outputs": []
    },
    {
      "cell_type": "code",
      "metadata": {
        "id": "iR94nyZ9bkc6"
      },
      "source": [
        "# Função de saída\r\n",
        "\r\n",
        "def saida(X, W):\r\n",
        "  u = somaPonderada(X, W)\r\n",
        "  return funcaoAtivacao(u)"
      ],
      "execution_count": 4,
      "outputs": []
    },
    {
      "cell_type": "code",
      "metadata": {
        "id": "TyGiF-vlcxrj"
      },
      "source": [
        "# Função para ajustes dos pesos\r\n",
        "# Parte central do processo de aprendizagem\r\n",
        "# Novo wi  →  wi = wi +  η xi (d - y)\r\n",
        "\r\n",
        "def ajustaPesos(eta, W, X, bias, d, y):\r\n",
        "  e = d - y\r\n",
        "  novoW = W + eta*X*e\r\n",
        "  novoB = bias + eta*(-1)*e\r\n",
        "  return novoW, novoB"
      ],
      "execution_count": 5,
      "outputs": []
    },
    {
      "cell_type": "markdown",
      "metadata": {
        "id": "LHgTCkDrgTfj"
      },
      "source": [
        "# Treinamento \r\n",
        "* Realizado manualmente para ilustrar o processo \r\n",
        "* Aprsenta uma entrada e calcula a saída de maneira iterativa "
      ]
    },
    {
      "cell_type": "markdown",
      "metadata": {
        "id": "EiPhOj66g2um"
      },
      "source": [
        "## Iteração 1"
      ]
    },
    {
      "cell_type": "code",
      "metadata": {
        "colab": {
          "base_uri": "https://localhost:8080/"
        },
        "id": "cMPuiPZhfcE6",
        "outputId": "ad8ad190-6bfc-4a7e-c867-e8d1208de49d"
      },
      "source": [
        "# Entrada predominantemente branca saída +1\r\n",
        "d = 1\r\n",
        "y = saida(A, Pesos)\r\n",
        "print(y)\r\n",
        "# Ajuste dos pesos\r\n",
        "Pesos, bias = ajustaPesos(eta, Pesos, A, bias, d, y)\r\n",
        "print(Pesos)\r\n",
        "print(bias)\r\n",
        "\r\n",
        "print(\"-----\")\r\n",
        "\r\n",
        "# Entrada predominantemente preta saída -1\r\n",
        "d = -1\r\n",
        "y = saida(B, Pesos)\r\n",
        "print(y)\r\n",
        "#Ajuste dos pesos\r\n",
        "Pesos, bias = ajustaPesos(eta, Pesos, B, bias, d, y)\r\n",
        "print(Pesos)\r\n",
        "print(bias)\r\n",
        "\r\n",
        "print(\"-----\")\r\n",
        "\r\n",
        "# Entrada predominantemente branca saída +1\r\n",
        "d = 1\r\n",
        "y = saida(C, Pesos)\r\n",
        "print(y)\r\n",
        "#Ajuste dos pesos\r\n",
        "Pesos, bias = ajustaPesos(eta, Pesos, C, bias, d, y)\r\n",
        "print(Pesos)\r\n",
        "print(bias)"
      ],
      "execution_count": 6,
      "outputs": [
        {
          "output_type": "stream",
          "text": [
            "-1\n",
            "[ 0.31 -0.09  0.31 -0.09  0.31  0.31 -0.09 -0.09  0.31]\n",
            "-0.7\n",
            "-----\n",
            "-1\n",
            "[ 0.31 -0.09  0.31 -0.09  0.31  0.31 -0.09 -0.09  0.31]\n",
            "-0.7\n",
            "-----\n",
            "1\n",
            "[ 0.31 -0.09  0.31 -0.09  0.31  0.31 -0.09 -0.09  0.31]\n",
            "-0.7\n"
          ],
          "name": "stdout"
        }
      ]
    },
    {
      "cell_type": "markdown",
      "metadata": {
        "id": "wiVJnx7SkOr3"
      },
      "source": [
        "## Iteração 2"
      ]
    },
    {
      "cell_type": "code",
      "metadata": {
        "colab": {
          "base_uri": "https://localhost:8080/"
        },
        "id": "nYpptVE3kSJe",
        "outputId": "caa1f5f3-8237-4816-e143-dd64433367da"
      },
      "source": [
        "# Entrada predominantemente branca saída +1\r\n",
        "d = 1\r\n",
        "y = saida(A, Pesos)\r\n",
        "print(y)\r\n",
        "# Ajuste dos pesos\r\n",
        "Pesos, bias = ajustaPesos(eta, Pesos, A, bias, d, y)\r\n",
        "print(Pesos)\r\n",
        "print(bias)\r\n",
        "\r\n",
        "print(\"-----\")\r\n",
        "\r\n",
        "# Entrada predominantemente preta saída -1\r\n",
        "d = -1\r\n",
        "y = saida(B, Pesos)\r\n",
        "print(y)\r\n",
        "#Ajuste dos pesos\r\n",
        "Pesos, bias = ajustaPesos(eta, Pesos, B, bias, d, y)\r\n",
        "print(Pesos)\r\n",
        "print(bias)\r\n",
        "\r\n",
        "print(\"-----\")\r\n",
        "\r\n",
        "# Entrada predominantemente branca saída +1\r\n",
        "d = 1\r\n",
        "y = saida(C, Pesos)\r\n",
        "print(y)\r\n",
        "#Ajuste dos pesos\r\n",
        "Pesos, bias = ajustaPesos(eta, Pesos, C, bias, d, y)\r\n",
        "print(Pesos)\r\n",
        "print(bias)"
      ],
      "execution_count": 7,
      "outputs": [
        {
          "output_type": "stream",
          "text": [
            "1\n",
            "[ 0.31 -0.09  0.31 -0.09  0.31  0.31 -0.09 -0.09  0.31]\n",
            "-0.7\n",
            "-----\n",
            "-1\n",
            "[ 0.31 -0.09  0.31 -0.09  0.31  0.31 -0.09 -0.09  0.31]\n",
            "-0.7\n",
            "-----\n",
            "1\n",
            "[ 0.31 -0.09  0.31 -0.09  0.31  0.31 -0.09 -0.09  0.31]\n",
            "-0.7\n"
          ],
          "name": "stdout"
        }
      ]
    },
    {
      "cell_type": "markdown",
      "metadata": {
        "id": "17quRYmfgaH5"
      },
      "source": [
        "# Teste\r\n",
        "* A que classe pertencem os padrões 111, 000, 100 e 011?"
      ]
    },
    {
      "cell_type": "code",
      "metadata": {
        "colab": {
          "base_uri": "https://localhost:8080/"
        },
        "id": "Eav81KM1vir9",
        "outputId": "92c41a17-b57d-487d-f46e-fb84faeabeb2"
      },
      "source": [
        "# Padrão \"claro\"\r\n",
        "T = np.array( [1, 1, 1, -1, 1, 1, 1, -1, 1] )\r\n",
        "print(\"Saida para \", T, \" é \", saida(T, Pesos))"
      ],
      "execution_count": 8,
      "outputs": [
        {
          "output_type": "stream",
          "text": [
            "Saida para  [ 1  1  1 -1  1  1  1 -1  1]  é  1\n"
          ],
          "name": "stdout"
        }
      ]
    },
    {
      "cell_type": "code",
      "metadata": {
        "colab": {
          "base_uri": "https://localhost:8080/"
        },
        "id": "U5N8cEoPviDb",
        "outputId": "3eed65ba-784b-44e7-f00b-27a82bcebaa2"
      },
      "source": [
        "# Padrão \"escuro\"\r\n",
        "T = np.array( [-1, -1, 1, -1, -1, -1, -1, -1, 1] )\r\n",
        "print(\"Saida para \", T, \" é \", saida(T, Pesos))"
      ],
      "execution_count": 9,
      "outputs": [
        {
          "output_type": "stream",
          "text": [
            "Saida para  [-1 -1  1 -1 -1 -1 -1 -1  1]  é  -1\n"
          ],
          "name": "stdout"
        }
      ]
    },
    {
      "cell_type": "code",
      "metadata": {
        "colab": {
          "base_uri": "https://localhost:8080/"
        },
        "id": "bvxdyluEtMKX",
        "outputId": "0b48126e-f233-4e1d-91ce-65e76f13919c"
      },
      "source": [
        "# Padrão \"claro\"\r\n",
        "T = np.array( [1, 1, 1, 1, 1, 1, -1, 1, 1] )\r\n",
        "print(\"Saida para \", T, \" é \", saida(T, Pesos))"
      ],
      "execution_count": 10,
      "outputs": [
        {
          "output_type": "stream",
          "text": [
            "Saida para  [ 1  1  1  1  1  1 -1  1  1]  é  1\n"
          ],
          "name": "stdout"
        }
      ]
    },
    {
      "cell_type": "code",
      "metadata": {
        "colab": {
          "base_uri": "https://localhost:8080/"
        },
        "id": "EcYe_f_9t26X",
        "outputId": "c8fce82e-0ff4-40c4-9549-9d4dcbaa21fb"
      },
      "source": [
        "# Padrão \"escuro\"\r\n",
        "T = np.array( [1, -1, -1, -1, 1, -1, -1, -1, -1] )\r\n",
        "print(\"Saida para \", T, \" é \", saida(T, Pesos))"
      ],
      "execution_count": 14,
      "outputs": [
        {
          "output_type": "stream",
          "text": [
            "Saida para  [ 1 -1 -1 -1  1 -1 -1 -1 -1]  é  -1\n"
          ],
          "name": "stdout"
        }
      ]
    },
    {
      "cell_type": "code",
      "metadata": {
        "colab": {
          "base_uri": "https://localhost:8080/"
        },
        "id": "B4BQjRaRWxC9",
        "outputId": "e9562cee-f486-407f-8227-fe10dd4fd8aa"
      },
      "source": [
        "# Padrão \"claro\"\r\n",
        "T = np.array( [-1, -1, 1, -1, 1, 1, 1, -1, 1] )\r\n",
        "print(\"Saida para \", T, \" é \", saida(T, Pesos))"
      ],
      "execution_count": 15,
      "outputs": [
        {
          "output_type": "stream",
          "text": [
            "Saida para  [-1 -1  1 -1  1  1  1 -1  1]  é  1\n"
          ],
          "name": "stdout"
        }
      ]
    },
    {
      "cell_type": "code",
      "metadata": {
        "colab": {
          "base_uri": "https://localhost:8080/"
        },
        "id": "XfmkgdN7Wu_d",
        "outputId": "c944f3be-cfa9-44e8-aa31-1d8266a0b536"
      },
      "source": [
        "# Padrão \"claro\"\r\n",
        "T = np.array( [-1, -1, -1, 1, 1, 1, 1, -1, 1] )\r\n",
        "print(\"Saida para \", T, \" é \", saida(T, Pesos))"
      ],
      "execution_count": 16,
      "outputs": [
        {
          "output_type": "stream",
          "text": [
            "Saida para  [-1 -1 -1  1  1  1  1 -1  1]  é  -1\n"
          ],
          "name": "stdout"
        }
      ]
    }
  ]
}